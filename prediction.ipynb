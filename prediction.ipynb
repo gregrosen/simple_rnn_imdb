{
 "cells": [
  {
   "cell_type": "code",
   "execution_count": 19,
   "metadata": {},
   "outputs": [],
   "source": [
    "# Step 1: Import Libraries and Load the Model\n",
    "import numpy as np\n",
    "import tensorflow as tf\n",
    "from tensorflow.keras.datasets import imdb\n",
    "from tensorflow.keras.preprocessing import sequence\n",
    "from tensorflow.keras.models import load_model"
   ]
  },
  {
   "cell_type": "code",
   "execution_count": 20,
   "metadata": {},
   "outputs": [],
   "source": [
    "\n",
    "# Load the IMDB dataset word index\n",
    "word_index = imdb.get_word_index()\n",
    "reverse_word_index = {value: key for key, value in word_index.items()}"
   ]
  },
  {
   "cell_type": "code",
   "execution_count": 29,
   "metadata": {},
   "outputs": [
    {
     "name": "stderr",
     "output_type": "stream",
     "text": [
      "WARNING:absl:Compiled the loaded model, but the compiled metrics have yet to be built. `model.compile_metrics` will be empty until you train or evaluate the model.\n"
     ]
    },
    {
     "data": {
      "text/html": [
       "<pre style=\"white-space:pre;overflow-x:auto;line-height:normal;font-family:Menlo,'DejaVu Sans Mono',consolas,'Courier New',monospace\"><span style=\"font-weight: bold\">Model: \"sequential\"</span>\n",
       "</pre>\n"
      ],
      "text/plain": [
       "\u001b[1mModel: \"sequential\"\u001b[0m\n"
      ]
     },
     "metadata": {},
     "output_type": "display_data"
    },
    {
     "data": {
      "text/html": [
       "<pre style=\"white-space:pre;overflow-x:auto;line-height:normal;font-family:Menlo,'DejaVu Sans Mono',consolas,'Courier New',monospace\">┏━━━━━━━━━━━━━━━━━━━━━━━━━━━━━━━━━┳━━━━━━━━━━━━━━━━━━━━━━━━┳━━━━━━━━━━━━━━━┓\n",
       "┃<span style=\"font-weight: bold\"> Layer (type)                    </span>┃<span style=\"font-weight: bold\"> Output Shape           </span>┃<span style=\"font-weight: bold\">       Param # </span>┃\n",
       "┡━━━━━━━━━━━━━━━━━━━━━━━━━━━━━━━━━╇━━━━━━━━━━━━━━━━━━━━━━━━╇━━━━━━━━━━━━━━━┩\n",
       "│ embedding (<span style=\"color: #0087ff; text-decoration-color: #0087ff\">Embedding</span>)           │ (<span style=\"color: #00af00; text-decoration-color: #00af00\">32</span>, <span style=\"color: #00af00; text-decoration-color: #00af00\">500</span>, <span style=\"color: #00af00; text-decoration-color: #00af00\">128</span>)         │     <span style=\"color: #00af00; text-decoration-color: #00af00\">1,280,000</span> │\n",
       "├─────────────────────────────────┼────────────────────────┼───────────────┤\n",
       "│ simple_rnn (<span style=\"color: #0087ff; text-decoration-color: #0087ff\">SimpleRNN</span>)          │ (<span style=\"color: #00af00; text-decoration-color: #00af00\">32</span>, <span style=\"color: #00af00; text-decoration-color: #00af00\">32</span>)               │         <span style=\"color: #00af00; text-decoration-color: #00af00\">5,152</span> │\n",
       "├─────────────────────────────────┼────────────────────────┼───────────────┤\n",
       "│ dropout (<span style=\"color: #0087ff; text-decoration-color: #0087ff\">Dropout</span>)               │ (<span style=\"color: #00af00; text-decoration-color: #00af00\">32</span>, <span style=\"color: #00af00; text-decoration-color: #00af00\">32</span>)               │             <span style=\"color: #00af00; text-decoration-color: #00af00\">0</span> │\n",
       "├─────────────────────────────────┼────────────────────────┼───────────────┤\n",
       "│ dense (<span style=\"color: #0087ff; text-decoration-color: #0087ff\">Dense</span>)                   │ (<span style=\"color: #00af00; text-decoration-color: #00af00\">32</span>, <span style=\"color: #00af00; text-decoration-color: #00af00\">1</span>)                │            <span style=\"color: #00af00; text-decoration-color: #00af00\">33</span> │\n",
       "└─────────────────────────────────┴────────────────────────┴───────────────┘\n",
       "</pre>\n"
      ],
      "text/plain": [
       "┏━━━━━━━━━━━━━━━━━━━━━━━━━━━━━━━━━┳━━━━━━━━━━━━━━━━━━━━━━━━┳━━━━━━━━━━━━━━━┓\n",
       "┃\u001b[1m \u001b[0m\u001b[1mLayer (type)                   \u001b[0m\u001b[1m \u001b[0m┃\u001b[1m \u001b[0m\u001b[1mOutput Shape          \u001b[0m\u001b[1m \u001b[0m┃\u001b[1m \u001b[0m\u001b[1m      Param #\u001b[0m\u001b[1m \u001b[0m┃\n",
       "┡━━━━━━━━━━━━━━━━━━━━━━━━━━━━━━━━━╇━━━━━━━━━━━━━━━━━━━━━━━━╇━━━━━━━━━━━━━━━┩\n",
       "│ embedding (\u001b[38;5;33mEmbedding\u001b[0m)           │ (\u001b[38;5;34m32\u001b[0m, \u001b[38;5;34m500\u001b[0m, \u001b[38;5;34m128\u001b[0m)         │     \u001b[38;5;34m1,280,000\u001b[0m │\n",
       "├─────────────────────────────────┼────────────────────────┼───────────────┤\n",
       "│ simple_rnn (\u001b[38;5;33mSimpleRNN\u001b[0m)          │ (\u001b[38;5;34m32\u001b[0m, \u001b[38;5;34m32\u001b[0m)               │         \u001b[38;5;34m5,152\u001b[0m │\n",
       "├─────────────────────────────────┼────────────────────────┼───────────────┤\n",
       "│ dropout (\u001b[38;5;33mDropout\u001b[0m)               │ (\u001b[38;5;34m32\u001b[0m, \u001b[38;5;34m32\u001b[0m)               │             \u001b[38;5;34m0\u001b[0m │\n",
       "├─────────────────────────────────┼────────────────────────┼───────────────┤\n",
       "│ dense (\u001b[38;5;33mDense\u001b[0m)                   │ (\u001b[38;5;34m32\u001b[0m, \u001b[38;5;34m1\u001b[0m)                │            \u001b[38;5;34m33\u001b[0m │\n",
       "└─────────────────────────────────┴────────────────────────┴───────────────┘\n"
      ]
     },
     "metadata": {},
     "output_type": "display_data"
    },
    {
     "data": {
      "text/html": [
       "<pre style=\"white-space:pre;overflow-x:auto;line-height:normal;font-family:Menlo,'DejaVu Sans Mono',consolas,'Courier New',monospace\"><span style=\"font-weight: bold\"> Total params: </span><span style=\"color: #00af00; text-decoration-color: #00af00\">1,285,187</span> (4.90 MB)\n",
       "</pre>\n"
      ],
      "text/plain": [
       "\u001b[1m Total params: \u001b[0m\u001b[38;5;34m1,285,187\u001b[0m (4.90 MB)\n"
      ]
     },
     "metadata": {},
     "output_type": "display_data"
    },
    {
     "data": {
      "text/html": [
       "<pre style=\"white-space:pre;overflow-x:auto;line-height:normal;font-family:Menlo,'DejaVu Sans Mono',consolas,'Courier New',monospace\"><span style=\"font-weight: bold\"> Trainable params: </span><span style=\"color: #00af00; text-decoration-color: #00af00\">1,285,185</span> (4.90 MB)\n",
       "</pre>\n"
      ],
      "text/plain": [
       "\u001b[1m Trainable params: \u001b[0m\u001b[38;5;34m1,285,185\u001b[0m (4.90 MB)\n"
      ]
     },
     "metadata": {},
     "output_type": "display_data"
    },
    {
     "data": {
      "text/html": [
       "<pre style=\"white-space:pre;overflow-x:auto;line-height:normal;font-family:Menlo,'DejaVu Sans Mono',consolas,'Courier New',monospace\"><span style=\"font-weight: bold\"> Non-trainable params: </span><span style=\"color: #00af00; text-decoration-color: #00af00\">0</span> (0.00 B)\n",
       "</pre>\n"
      ],
      "text/plain": [
       "\u001b[1m Non-trainable params: \u001b[0m\u001b[38;5;34m0\u001b[0m (0.00 B)\n"
      ]
     },
     "metadata": {},
     "output_type": "display_data"
    },
    {
     "data": {
      "text/html": [
       "<pre style=\"white-space:pre;overflow-x:auto;line-height:normal;font-family:Menlo,'DejaVu Sans Mono',consolas,'Courier New',monospace\"><span style=\"font-weight: bold\"> Optimizer params: </span><span style=\"color: #00af00; text-decoration-color: #00af00\">2</span> (12.00 B)\n",
       "</pre>\n"
      ],
      "text/plain": [
       "\u001b[1m Optimizer params: \u001b[0m\u001b[38;5;34m2\u001b[0m (12.00 B)\n"
      ]
     },
     "metadata": {},
     "output_type": "display_data"
    }
   ],
   "source": [
    "# Load the pre-trained model with ReLU activation\n",
    "model = load_model('simple_rnn_imdb_optimized.h5')\n",
    "model.summary()"
   ]
  },
  {
   "cell_type": "code",
   "execution_count": 30,
   "metadata": {},
   "outputs": [
    {
     "data": {
      "text/plain": [
       "[array([[ 3.30231756e-01,  1.19758859e-01,  2.45230839e-01, ...,\n",
       "         -1.06287226e-01, -1.26139998e-01, -3.17536473e-01],\n",
       "        [ 3.03718131e-02,  7.48295859e-02,  9.66957361e-02, ...,\n",
       "         -5.73671274e-02, -6.45364402e-04, -9.11631272e-04],\n",
       "        [ 1.64982746e-03,  4.03766055e-04,  3.37297022e-02, ...,\n",
       "         -3.73775549e-02, -2.31267922e-02,  3.20096826e-03],\n",
       "        ...,\n",
       "        [-1.06910011e-02,  2.75989361e-02, -4.57685925e-02, ...,\n",
       "         -2.91650724e-02, -2.07548272e-02,  2.29184125e-02],\n",
       "        [-2.95377374e-02, -9.67563223e-03, -1.23492908e-02, ...,\n",
       "          1.76678543e-04, -4.51048426e-02,  3.58660892e-02],\n",
       "        [-2.02984419e-02,  1.09634921e-02,  3.64355110e-02, ...,\n",
       "          3.07857431e-02,  5.74287698e-02,  4.99541238e-02]], dtype=float32),\n",
       " array([[-0.17119223, -0.20250045, -0.09599569, ..., -0.00982394,\n",
       "          0.00646145, -0.01803778],\n",
       "        [ 0.03136313,  0.04205773, -0.12327453, ...,  0.17009827,\n",
       "         -0.2730198 ,  0.08718106],\n",
       "        [ 0.03625742,  0.1473017 ,  0.12182844, ..., -0.20610048,\n",
       "         -0.26663095, -0.15314786],\n",
       "        ...,\n",
       "        [-0.01871619, -0.16443312, -0.14432526, ...,  0.13779011,\n",
       "          0.10268801,  0.1731833 ],\n",
       "        [ 0.01598015, -0.00881492,  0.28722528, ..., -0.20429513,\n",
       "         -0.0186581 ,  0.16515483],\n",
       "        [ 0.14002858,  0.11454418, -0.15022989, ..., -0.08069371,\n",
       "         -0.02637894, -0.01497907]], dtype=float32),\n",
       " array([[ 0.24019395,  0.0810155 , -0.17398302, ..., -0.03398873,\n",
       "          0.02377434,  0.08251441],\n",
       "        [-0.08218104,  0.03171233,  0.08577871, ...,  0.0080095 ,\n",
       "         -0.17194873,  0.20520544],\n",
       "        [ 0.13932972, -0.2816172 ,  0.09192263, ...,  0.08763201,\n",
       "         -0.14835614,  0.08298651],\n",
       "        ...,\n",
       "        [ 0.53562784, -0.14171238,  0.12759642, ...,  0.23169103,\n",
       "          0.26208198, -0.25110435],\n",
       "        [-0.18035768, -0.08569909,  0.17691672, ..., -0.08869827,\n",
       "         -0.11605717,  0.28470817],\n",
       "        [ 0.13407488,  0.05571154,  0.1204334 , ..., -0.03975951,\n",
       "         -0.08870157,  0.16180812]], dtype=float32),\n",
       " array([ 0.03359333,  0.04527885, -0.01337766,  0.00380615, -0.00014138,\n",
       "        -0.0388859 , -0.00989902, -0.01655212,  0.0249721 , -0.00856054,\n",
       "         0.02306821,  0.00777997,  0.01919413, -0.00655092,  0.00677173,\n",
       "        -0.02207188, -0.00455933, -0.01033891,  0.00599329, -0.00983051,\n",
       "         0.02861897,  0.03128387, -0.00865211,  0.01089002, -0.02031269,\n",
       "         0.00655935,  0.04163638, -0.00555461,  0.03095137,  0.0773742 ,\n",
       "        -0.00185265, -0.00140315], dtype=float32),\n",
       " array([[-0.20263796],\n",
       "        [-0.15626182],\n",
       "        [-0.20534866],\n",
       "        [ 0.0971459 ],\n",
       "        [ 0.3708926 ],\n",
       "        [-0.01399374],\n",
       "        [-0.1639827 ],\n",
       "        [ 0.03291423],\n",
       "        [-0.6049723 ],\n",
       "        [ 0.30310756],\n",
       "        [ 0.12867904],\n",
       "        [ 0.36598325],\n",
       "        [-0.18393694],\n",
       "        [-0.10262431],\n",
       "        [ 0.48862094],\n",
       "        [ 0.43369895],\n",
       "        [-0.18287902],\n",
       "        [ 0.4240518 ],\n",
       "        [ 0.27227214],\n",
       "        [-0.5608065 ],\n",
       "        [ 0.2750929 ],\n",
       "        [ 0.04451109],\n",
       "        [ 0.04962914],\n",
       "        [ 0.09157103],\n",
       "        [ 0.2175758 ],\n",
       "        [-0.3108019 ],\n",
       "        [-0.12699752],\n",
       "        [-0.32137805],\n",
       "        [-0.2917658 ],\n",
       "        [-0.13548839],\n",
       "        [-0.611577  ],\n",
       "        [ 0.24176316]], dtype=float32),\n",
       " array([-0.0295685], dtype=float32)]"
      ]
     },
     "execution_count": 30,
     "metadata": {},
     "output_type": "execute_result"
    }
   ],
   "source": [
    "model.get_weights()"
   ]
  },
  {
   "cell_type": "code",
   "execution_count": 31,
   "metadata": {},
   "outputs": [],
   "source": [
    "# Step 2: Helper Functions\n",
    "# Function to decode reviews\n",
    "def decode_review(encoded_review):\n",
    "    return ' '.join([reverse_word_index.get(i - 3, '?') for i in encoded_review])\n",
    "\n",
    "# Function to preprocess user input\n",
    "def preprocess_text(text):\n",
    "    words = text.lower().split()\n",
    "    encoded_review = [word_index.get(word, 2) + 3 for word in words]\n",
    "    padded_review = sequence.pad_sequences([encoded_review], maxlen=500)\n",
    "    return padded_review"
   ]
  },
  {
   "cell_type": "code",
   "execution_count": 32,
   "metadata": {},
   "outputs": [],
   "source": [
    "### Prediction  function\n",
    "\n",
    "def predict_sentiment(review):\n",
    "    preprocessed_input=preprocess_text(review)\n",
    "\n",
    "    prediction=model.predict(preprocessed_input)\n",
    "\n",
    "    sentiment = 'Positive' if prediction[0][0] > 0.5 else 'Negative'\n",
    "    \n",
    "    return sentiment, prediction[0][0]\n",
    "\n"
   ]
  },
  {
   "cell_type": "code",
   "execution_count": 111,
   "metadata": {},
   "outputs": [
    {
     "name": "stdout",
     "output_type": "stream",
     "text": [
      "\u001b[1m1/1\u001b[0m \u001b[32m━━━━━━━━━━━━━━━━━━━━\u001b[0m\u001b[37m\u001b[0m \u001b[1m0s\u001b[0m 363ms/step\n",
      "Review: It’s a drag to feel you’re being held hostage by someone else’s nostalgia. The stage show Wicked is beloved by many; it’s been playing on Broadway for 20 years and counting, which means a lot of little girls, and others, have happily fallen under the poppy-induced spell of Winnie Holzman and Stephen Schwartz’s musical about the complex origins of the not-really-so-bad Wicked Witch of the West. Legions of kids and grownups have hummed and toe-tapped along with numbers like “Popular” and “Defying Gravity,” one a twinkly sendup of what it takes to be the most-liked girl at school, the other a peppy empowerment ballad about charting your own course in life. The film adaptation of Wicked—directed by John M. Chu and starring Cynthia Erivo and Ariana Grande—will increase the material’s reach, giving many more people the chance to fall in love with it. Or not.\n",
      "\n",
      "It's the “or nots” who are likely to be the minority. But if you fail to feel the transformative magic of Chu’s Wicked, there are some good reasons: The movie is so aggressively colorful, so manic in its insistence that it’s OK to be different, that it practically mows you down. And this is only part one of the saga—the second installment arrives in November 2025. Wicked pulls off a distinctive but dismal magic trick: it turns other people’s cherished Broadway memories into a protracted form of punishment for the rest of us.\n",
      "\n",
      "Read more: Breaking Down Wicked’s Iconic Songs With Composer Stephen Schwartz\n",
      "\n",
      "Wicked the movie is cobbled together from many complex moving parts, and some of them work better than others. Grande plays Glinda, the good witch of Oz—but is she really all that good? The backstory that will consume all two hours and 41 minutes of this movie—roughly the same amount of time as the stage musical, though again, this is only the first half—proves the almost-opposite. This is really the story of Elphaba, played by Erivo, who is, at the movie’s onset, a reticent young woman with dazzling supernatural powers. The problem is that she has green skin, which makes her a target for mockery and derision, an outcast. Elphaba is a reimagining of the character first brought to life by L. Frank Baum in his extraordinary and wonderfully weird turn-of-the-century Oz books, and later portrayed in the revered 1939 Wizard of Oz by Margaret Hamilton. Wicked—whose source material, roughly speaking, is Gregory Maguire’s 1995 novel Wicked: The Life and Times of the Wicked Witch of the West—is built around the idea that Elphaba wasn’t born bad, but was merely forced into making decisions that set her on a path different from that of the insufferable goody-two-shoes Glinda, her enemy turned frenemy turned friend. The story’s subtext—or, rather, its glaring bold type—is that we’re all shaped by our choices, which are at least partly determined by our response to how others treat us.\n",
      "WICKED\n",
      "Marissa Bode as Nessarose with Cynthia Erivo is ElphabaCourtesy of Universal Pictures\n",
      "\n",
      "But you’ve probably come to Wicked not for its leaden life lessons, but for the songs, for the lavish, showy sets, for the chance to watch two formidable performers parry and spar. Grande brings a not-unpleasant powder-room perkiness to the role of Glinda: as the movie opens, she’s entering Oz’s Shiz University, an institution whose radically uncool name will forever tarnish, sadly, the classic and vaguely scatological phrase “It’s the shizz.” Shiz is the place where kids come to learn magic spells and stuff; Glinda arrives with a million pink suitcases, thinking she's going to be the star pupil.\n",
      "Why Smart Tech Might Be the Secret to Healthier Cows\n",
      "Branded Content\n",
      "Why Smart Tech Might Be the Secret to Healthier Cows\n",
      "By Undeniably Dairy\n",
      "\n",
      "Not so fast: Elphaba has also arrived at the school, but not as a student. She’s just there to drop off her younger sister, Nessa Rose (Marissa Bode). Their father, Governor Thropp (Andy Nyman), has hated Elphaba since the day she was born— remember, she’s green and thus different—while doting on Nessa Rose who is, admittedly, so kind and lovely that it’s impossible not to love her. Elphaba, in fact, adores her. And the fact that she uses a wheelchair makes their father all the more overprotective of her. But as Elphaba goes about the business of getting her younger sister settled at Shiz, her fantastical powers—they flow from her like electricity, especially when she’s angry or frustrated—catch the attention of the school’s superstar professor, the chilly, elegant Madame Morrible (Michelle Yeoh). Morrible enrolls Elphaba in Shiz University immediately, making her the unwelcome roommate of Glinda (who is at this point named Galinda, for reasons the movie will explain if you’re curious, or even if you’re not).\n",
      "Wicked\n",
      "Jeff Goldblum as the Wizard and Michelle Yeoh as Madam Morrible in Wicked.Giles Keyte—Universal Pictures\n",
      "\n",
      "Glinda has no use for Elphaba, and goes overboard in making her Shiz experience unbearable. She relegates her roommate to a small, dark corner of their shared quarters and literally crowds her out with mountains of frippery and furbelows, mostly in vibrant shades of pink. In a pivotal scene, she tries to humiliate Elphaba at a school dance and then inexplicably softens; the two become almost-friends. But there’s always an undercurrent of competitiveness there—Glinda isn’t half as gifted as Elphaba is, and she's the opposite of down-to-earth. Grande has some fun with Glinda’s sugary, over-the-top manipulations: she has the fluttery eyelids of a blinking doll and the twirly elegance of a music-box ballerina. But her shtick becomes wearisome. There’s so much winking, twinkling, and nudging in Wicked that I emerged from it feeling grateful—if only momentarily—for the stark ugliness of reality.\n",
      "\n",
      "There are so many characters, so many plot points, so many metaphors in Wicked—they're like a traffic pileup of flying monkeys. Jonathan Bailey plays a rich, handsome prince who, upon his heralded arrival at the school, instinctively likes Elphaba but ends up going steady with Glinda, who practically hypnotizes him into compliance. Jeff Goldblum plays the Wizard of Oz, a lanky charmer who might be a jerk at best and a puppet of fascists at worst. Peter Dinklage provides the voice of a beleaguered professor-goat at the school, Dr. Dillamond. Oz is a community where animals can talk; they’re as intelligent as humans, or more so, and they mingle freely in society. But someone in Oz is seeking to stop all that, launching a campaign to silence all animals, and Dr. Dillamond becomes their unfortunate victim.\n",
      "WICKED\n",
      "Dinklage as a goat professorCourtesy of Universal Pictures\n",
      "\n",
      "Meanwhile, the big message of Wicked—No one is all good or all bad—blinks so assaultively that you’re not sure what any of it means. Metaphorical truisms ping around willy-nilly: It’s OK, even good, to be different! Those who know best will always be the first to be silenced! The popular girl doesn’t always win! It’s tempting to interpret Wicked as a wise civics lesson, a fable for our times, but its ideas are so slippery, so readily adaptable to even the most blinkered political views, that they have no real value. Meanwhile, there are as many song and dance numbers as you could wish for, and possibly more. Chu—also the director of Crazy Rich Asians and In the Heights, both movies more entertaining than this one—stages them lavishly, to the point where your ears and eyeballs wish he would stop.\n",
      "\n",
      "And yet—there’s Erivo. She’s the one force in Wicked that didn’t make me feel ground down to a nub. As Elphaba, she channels something like real pain rather than just showtune self-pity. You feel for her in her greenness, in her persistent state of being an outsider, in her frustration at being underestimated and unloved. Erivo nearly rises above the material, and not just on a broomstick. But not even she is strong enough to counteract the cyclone of Entertainment with a capital E swirling around her. For a movie whose chief anthem is an advertisement for the joys of defying gravity, Wicked is surprisingly leaden, with a promise of more of the same to come. The shizz it’s not.\n",
      "Sentiment: Negative\n",
      "Prediction Score: 0.3215661346912384\n"
     ]
    }
   ],
   "source": [
    "# Step 4: User Input and Prediction\n",
    "# Example review for prediction\n",
    "example_review = '''It’s a drag to feel you’re being held hostage by someone else’s nostalgia. The stage show Wicked is beloved by many; it’s been playing on Broadway for 20 years and counting, which means a lot of little girls, and others, have happily fallen under the poppy-induced spell of Winnie Holzman and Stephen Schwartz’s musical about the complex origins of the not-really-so-bad Wicked Witch of the West. Legions of kids and grownups have hummed and toe-tapped along with numbers like “Popular” and “Defying Gravity,” one a twinkly sendup of what it takes to be the most-liked girl at school, the other a peppy empowerment ballad about charting your own course in life. The film adaptation of Wicked—directed by John M. Chu and starring Cynthia Erivo and Ariana Grande—will increase the material’s reach, giving many more people the chance to fall in love with it. Or not.\n",
    "\n",
    "It's the “or nots” who are likely to be the minority. But if you fail to feel the transformative magic of Chu’s Wicked, there are some good reasons: The movie is so aggressively colorful, so manic in its insistence that it’s OK to be different, that it practically mows you down. And this is only part one of the saga—the second installment arrives in November 2025. Wicked pulls off a distinctive but dismal magic trick: it turns other people’s cherished Broadway memories into a protracted form of punishment for the rest of us.\n",
    "\n",
    "Read more: Breaking Down Wicked’s Iconic Songs With Composer Stephen Schwartz\n",
    "\n",
    "Wicked the movie is cobbled together from many complex moving parts, and some of them work better than others. Grande plays Glinda, the good witch of Oz—but is she really all that good? The backstory that will consume all two hours and 41 minutes of this movie—roughly the same amount of time as the stage musical, though again, this is only the first half—proves the almost-opposite. This is really the story of Elphaba, played by Erivo, who is, at the movie’s onset, a reticent young woman with dazzling supernatural powers. The problem is that she has green skin, which makes her a target for mockery and derision, an outcast. Elphaba is a reimagining of the character first brought to life by L. Frank Baum in his extraordinary and wonderfully weird turn-of-the-century Oz books, and later portrayed in the revered 1939 Wizard of Oz by Margaret Hamilton. Wicked—whose source material, roughly speaking, is Gregory Maguire’s 1995 novel Wicked: The Life and Times of the Wicked Witch of the West—is built around the idea that Elphaba wasn’t born bad, but was merely forced into making decisions that set her on a path different from that of the insufferable goody-two-shoes Glinda, her enemy turned frenemy turned friend. The story’s subtext—or, rather, its glaring bold type—is that we’re all shaped by our choices, which are at least partly determined by our response to how others treat us.\n",
    "WICKED\n",
    "Marissa Bode as Nessarose with Cynthia Erivo is ElphabaCourtesy of Universal Pictures\n",
    "\n",
    "But you’ve probably come to Wicked not for its leaden life lessons, but for the songs, for the lavish, showy sets, for the chance to watch two formidable performers parry and spar. Grande brings a not-unpleasant powder-room perkiness to the role of Glinda: as the movie opens, she’s entering Oz’s Shiz University, an institution whose radically uncool name will forever tarnish, sadly, the classic and vaguely scatological phrase “It’s the shizz.” Shiz is the place where kids come to learn magic spells and stuff; Glinda arrives with a million pink suitcases, thinking she's going to be the star pupil.\n",
    "Why Smart Tech Might Be the Secret to Healthier Cows\n",
    "Branded Content\n",
    "Why Smart Tech Might Be the Secret to Healthier Cows\n",
    "By Undeniably Dairy\n",
    "\n",
    "Not so fast: Elphaba has also arrived at the school, but not as a student. She’s just there to drop off her younger sister, Nessa Rose (Marissa Bode). Their father, Governor Thropp (Andy Nyman), has hated Elphaba since the day she was born— remember, she’s green and thus different—while doting on Nessa Rose who is, admittedly, so kind and lovely that it’s impossible not to love her. Elphaba, in fact, adores her. And the fact that she uses a wheelchair makes their father all the more overprotective of her. But as Elphaba goes about the business of getting her younger sister settled at Shiz, her fantastical powers—they flow from her like electricity, especially when she’s angry or frustrated—catch the attention of the school’s superstar professor, the chilly, elegant Madame Morrible (Michelle Yeoh). Morrible enrolls Elphaba in Shiz University immediately, making her the unwelcome roommate of Glinda (who is at this point named Galinda, for reasons the movie will explain if you’re curious, or even if you’re not).\n",
    "Wicked\n",
    "Jeff Goldblum as the Wizard and Michelle Yeoh as Madam Morrible in Wicked.Giles Keyte—Universal Pictures\n",
    "\n",
    "Glinda has no use for Elphaba, and goes overboard in making her Shiz experience unbearable. She relegates her roommate to a small, dark corner of their shared quarters and literally crowds her out with mountains of frippery and furbelows, mostly in vibrant shades of pink. In a pivotal scene, she tries to humiliate Elphaba at a school dance and then inexplicably softens; the two become almost-friends. But there’s always an undercurrent of competitiveness there—Glinda isn’t half as gifted as Elphaba is, and she's the opposite of down-to-earth. Grande has some fun with Glinda’s sugary, over-the-top manipulations: she has the fluttery eyelids of a blinking doll and the twirly elegance of a music-box ballerina. But her shtick becomes wearisome. There’s so much winking, twinkling, and nudging in Wicked that I emerged from it feeling grateful—if only momentarily—for the stark ugliness of reality.\n",
    "\n",
    "There are so many characters, so many plot points, so many metaphors in Wicked—they're like a traffic pileup of flying monkeys. Jonathan Bailey plays a rich, handsome prince who, upon his heralded arrival at the school, instinctively likes Elphaba but ends up going steady with Glinda, who practically hypnotizes him into compliance. Jeff Goldblum plays the Wizard of Oz, a lanky charmer who might be a jerk at best and a puppet of fascists at worst. Peter Dinklage provides the voice of a beleaguered professor-goat at the school, Dr. Dillamond. Oz is a community where animals can talk; they’re as intelligent as humans, or more so, and they mingle freely in society. But someone in Oz is seeking to stop all that, launching a campaign to silence all animals, and Dr. Dillamond becomes their unfortunate victim.\n",
    "WICKED\n",
    "Dinklage as a goat professorCourtesy of Universal Pictures\n",
    "\n",
    "Meanwhile, the big message of Wicked—No one is all good or all bad—blinks so assaultively that you’re not sure what any of it means. Metaphorical truisms ping around willy-nilly: It’s OK, even good, to be different! Those who know best will always be the first to be silenced! The popular girl doesn’t always win! It’s tempting to interpret Wicked as a wise civics lesson, a fable for our times, but its ideas are so slippery, so readily adaptable to even the most blinkered political views, that they have no real value. Meanwhile, there are as many song and dance numbers as you could wish for, and possibly more. Chu—also the director of Crazy Rich Asians and In the Heights, both movies more entertaining than this one—stages them lavishly, to the point where your ears and eyeballs wish he would stop.\n",
    "\n",
    "And yet—there’s Erivo. She’s the one force in Wicked that didn’t make me feel ground down to a nub. As Elphaba, she channels something like real pain rather than just showtune self-pity. You feel for her in her greenness, in her persistent state of being an outsider, in her frustration at being underestimated and unloved. Erivo nearly rises above the material, and not just on a broomstick. But not even she is strong enough to counteract the cyclone of Entertainment with a capital E swirling around her. For a movie whose chief anthem is an advertisement for the joys of defying gravity, Wicked is surprisingly leaden, with a promise of more of the same to come. The shizz it’s not.'''\n",
    "\n",
    "# '''When it's all about the spectacle of big, splashy production numbers, this prequel to \"The Wizard of Oz\" is thrilling, whether we're in Munchkinland, the Emerald City or the campus of Shiz University, where a young Wicked Witch of the West and Glinda the Good Witch of the North first cross paths. As we've seen from the director's previous films including \"Crazy Rich Asians\" and \"In the Heights,\" Chu is uniquely adept at presenting an enormous song-and-dance extravaganza without getting lost in it. His sense of pacing and perspective draw us in and center us within the swirling fantasy. It helps greatly that he has deeply talented stars in Cynthia Erivo and Ariana Grande: magnetic multi-hyphenates who can meet every physical and emotional challenge of these iconic characters. Following in the footsteps of Idina Menzel and Kristin Chenoweth would seem like a daunting task, but Erivo and Grande bring their own vocal power and dramatic interpretation to the roles of Elphaba and Glinda, respectively. You truly feel the friendship between these opposites, particularly in one beautiful, wordless dance sequence where they forge their unlikely bond, which is moving in its understatement. That's the foundation of this story, so it's crucial that we know their connection is true for its destruction to be meaningful. \n",
    "\n",
    "# Far less effective is the way Chu, working from a script by Winnie Holzman and Dana Fox, based on the novel by Gregory Maguire, wedges in the movie's heavier themes of authoritarianism. Yes, they are baked into the story: We know from watching 1939's \"The Wizard of Oz\" countless times that the wizard is a con artist who rules by fear. His deception is literally one of smoke and mirrors. That's all in the source material of the \"Wicked\" stage production, as well, for which Holzman wrote the book and Stephen Schwartz wrote the music and lyrics. Here, in film form, the tone swings awkwardly between upbeat wonder and dark oppression. This is a world in which minorities are hunted, placed in cages and prevented from speaking, where a charismatic leader (a playfully evil Jeff Goldblum) persecutes a woman of color. It is not subtle, and it feels all-too relevant to our times, despite originating decades ago. It also drags down the energy of this epic tale. And yet, overstuffed as the film is at 2 hours and 40 minutes, this is only part one: \"Wicked\" ends where the intermission occurs in the stage show, with part two coming in November 2025. It's a lot to ask of an audience. Still, people who love this story and these characters will be delighted, and there's much here for people who aren't familiar with the musical but are looking for a cinematic escape around the holidays. \n",
    "\n",
    "# \"Wicked\" begins with Grande's Glinda descending majestically into Munchkinland to inform her enthusiastic fans that the rumors are true: The witch really is dead. Then it flashes back to how she and the green-hued Elphaba (the Wicked Witch's first name) became unlikely allies in college. Elphaba has always been bullied and ostracized because of the color of her skin; Glinda—or Galinda, as she's known at this point—is a pretty, pampered mean girl who's always gotten her way. (Bowen Yang is a hoot as one of her loyal sycophants.) \n",
    "\n",
    "# But once they're forced to room together, they eventually realize, to their surprise, that they genuinely see each other in a way no one ever has before. Galinda's makeover anthem \"Popular\"—one of the most popular songs from the show—is among the film's highlights, and a great example of the technical prowess \"Wicked\" offers. The costume design from Paul Tazewell (\"West Side Story\") and production design from longtime Christopher Nolan collaborator Nathan Crowley are exquisite throughout but especially here. Alice Brooks' cinematography is consistently wondrous, but her use of hot pink lighting as Galinda's at the height of her power is really evocative.  \n",
    "\n",
    "# Chu's usual choreographer, Christopher Scott, delivers again with vibrant, inspired moves, particularly in the elaborate \"Dancing Through Life,\" which takes place in the school's rotating, multilevel library. \"Bridgerton\" star Jonathan Bailey gets a chance to show off his musical theater background here, and he's terrifically charming as the glib Prince Fiyero, the object of both Elphaba and Galinda's romantic interests. Michelle Yeoh brings elegance and just a hint of danger to her role as Madame Morrible, the university's sorcery professor. And Peter Dinklage lends gravitas as the resonant voice of Dr. Dillamond, a goat instructor who, like other talking animals in Oz, finds himself increasingly in peril. \n",
    "\n",
    "# But it's that connection between Erivo and Grande that gives the film its emotional heft. Erivo does do much with her eyes to convey Elphaba's sadness and loneliness and, eventually, her hope and determination. There's a directness about her screen presence that's immediate and engaging, and of course she can sing the hell out of these demanding songs. Grande meets her note for note and once again displays her comic chops, but it's the little choices that make her portrayal of the perfect Galinda feel human: a jerky perkiness that's slightly dorky. The blonde tresses and array of pink dresses scream confidence, but deep down she's a try-hard whose desire to be liked is her driving motivation. \n",
    "\n",
    "# As undeniably crowd-pleasing as \"Wicked\" is in its big moments, these smaller and more intimate details are just as magical. '''\n",
    "# 'This movie was so good. Absolutely incredible. The acting was so good! It really showed me what a skillful movie should be. I was enthralled the entire time. Wow.'\n",
    "# \"antonio aka castle of blood of 1964 is a beautiful and incredibly haunting masterpiece of italian gothic horror and after mario la del aka black sunday of 1960 and roger pit and the of starring the great vincent price another must see that earned the wonderful barbara steele her more than deserved fame as the most important female horror icon in the history of motion pictures but not only is the beautiful and brilliant barbara steele one of my favorite actresses of all time the screenplay to was co written by no one less than the cinematic genius sergio who directed such ingenious spaghetti western as 1966 and the great silence 1968 number 2 in the field right after mario director antonio is one of the all time masters of gothic horror and castle of blood is his greatest achievement hardly another film works so brilliantly in creating an incredibly haunting yet beautiful atmosphere as it is the case with this creepy masterpiece br br when he encounters the famous writer of brilliant macabre stories edgar allen poe in a gloomy london young journalist alan foster georges accepts a bet from a that he can not spend a night in his haunted castle in the night of all eve as soon as foster enters the eerie castle mysterious things start to happen after a little while however he encounters an enchanting resident of the castle the stunningly beautiful barbara steele the mysterious events so far however have only been of the the castle bears however br br the eerie castle setting alone would be sufficient to create a gloomy mood the excellent black and white cinematography and a great score by create an incredibly haunting atmosphere that is eerie beyond comparison the wonderful barbara steele is fantastic as always i simply can not find enough words to praise this wonderful actress no other actress has ever been capable of ravishing beauty with the uncanny as it is the case with steele and no actress ever will besides steele the movie's cast contains another stunning beauty and she also delivers a great performance george performance as alan foster is great and the rest of the performances are also very good castle of blood is outstanding in many barbara steele delivers one of her best performances the cinematography and locations are beautifully haunting beyond comparison the atmosphere is incredibly eerie the film simply is a perfect whole of atmosphere gothic beauty and the art of terror in short castle of blood is one of the most atmospheric and greatest gothic horror films ever made and must not be missed by anyone interested in the genre 10 10\"\n",
    "# \"This movie was excellent. The acting was great and the plot was thrilling\"\n",
    "\n",
    "sentiment,score=predict_sentiment(example_review)\n",
    "\n",
    "print(f'Review: {example_review}')\n",
    "print(f'Sentiment: {sentiment}')\n",
    "print(f'Prediction Score: {score}')"
   ]
  },
  {
   "cell_type": "code",
   "execution_count": null,
   "metadata": {},
   "outputs": [],
   "source": []
  }
 ],
 "metadata": {
  "kernelspec": {
   "display_name": "rnn_imdb",
   "language": "python",
   "name": "python3"
  },
  "language_info": {
   "codemirror_mode": {
    "name": "ipython",
    "version": 3
   },
   "file_extension": ".py",
   "mimetype": "text/x-python",
   "name": "python",
   "nbconvert_exporter": "python",
   "pygments_lexer": "ipython3",
   "version": "3.11.10"
  }
 },
 "nbformat": 4,
 "nbformat_minor": 2
}
